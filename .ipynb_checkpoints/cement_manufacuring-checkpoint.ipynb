{
 "cells": [
  {
   "cell_type": "markdown",
   "id": "7b0ee66a-0c49-4d57-a38c-6ac99e394f0b",
   "metadata": {},
   "source": [
    "# Cement manufacturing - concrete strength prediction"
   ]
  },
  {
   "cell_type": "code",
   "execution_count": 29,
   "id": "2c18f43e-3657-4507-b6a8-1f7b91372064",
   "metadata": {},
   "outputs": [],
   "source": [
    "import numpy as np\n",
    "import pandas as pd\n",
    "import matplotlib.pyplot as plt\n",
    "import seaborn as sns"
   ]
  },
  {
   "cell_type": "code",
   "execution_count": 30,
   "id": "b69e4d20-9582-4f49-b5aa-babd8480616e",
   "metadata": {},
   "outputs": [],
   "source": [
    "csv = pd.read_csv('concrete.csv')\n",
    "df = pd.DataFrame(csv)"
   ]
  },
  {
   "cell_type": "code",
   "execution_count": 31,
   "id": "c7f20bcf-020a-458b-9bd9-edb988c6a786",
   "metadata": {},
   "outputs": [
    {
     "data": {
      "text/html": [
       "<div>\n",
       "<style scoped>\n",
       "    .dataframe tbody tr th:only-of-type {\n",
       "        vertical-align: middle;\n",
       "    }\n",
       "\n",
       "    .dataframe tbody tr th {\n",
       "        vertical-align: top;\n",
       "    }\n",
       "\n",
       "    .dataframe thead th {\n",
       "        text-align: right;\n",
       "    }\n",
       "</style>\n",
       "<table border=\"1\" class=\"dataframe\">\n",
       "  <thead>\n",
       "    <tr style=\"text-align: right;\">\n",
       "      <th></th>\n",
       "      <th>cement</th>\n",
       "      <th>slag</th>\n",
       "      <th>ash</th>\n",
       "      <th>water</th>\n",
       "      <th>superplastic</th>\n",
       "      <th>coarseagg</th>\n",
       "      <th>fineagg</th>\n",
       "      <th>age</th>\n",
       "      <th>strength</th>\n",
       "    </tr>\n",
       "  </thead>\n",
       "  <tbody>\n",
       "    <tr>\n",
       "      <th>0</th>\n",
       "      <td>141.3</td>\n",
       "      <td>212.0</td>\n",
       "      <td>0.0</td>\n",
       "      <td>203.5</td>\n",
       "      <td>0.0</td>\n",
       "      <td>971.8</td>\n",
       "      <td>748.5</td>\n",
       "      <td>28</td>\n",
       "      <td>29.89</td>\n",
       "    </tr>\n",
       "    <tr>\n",
       "      <th>1</th>\n",
       "      <td>168.9</td>\n",
       "      <td>42.2</td>\n",
       "      <td>124.3</td>\n",
       "      <td>158.3</td>\n",
       "      <td>10.8</td>\n",
       "      <td>1080.8</td>\n",
       "      <td>796.2</td>\n",
       "      <td>14</td>\n",
       "      <td>23.51</td>\n",
       "    </tr>\n",
       "    <tr>\n",
       "      <th>2</th>\n",
       "      <td>250.0</td>\n",
       "      <td>0.0</td>\n",
       "      <td>95.7</td>\n",
       "      <td>187.4</td>\n",
       "      <td>5.5</td>\n",
       "      <td>956.9</td>\n",
       "      <td>861.2</td>\n",
       "      <td>28</td>\n",
       "      <td>29.22</td>\n",
       "    </tr>\n",
       "    <tr>\n",
       "      <th>3</th>\n",
       "      <td>266.0</td>\n",
       "      <td>114.0</td>\n",
       "      <td>0.0</td>\n",
       "      <td>228.0</td>\n",
       "      <td>0.0</td>\n",
       "      <td>932.0</td>\n",
       "      <td>670.0</td>\n",
       "      <td>28</td>\n",
       "      <td>45.85</td>\n",
       "    </tr>\n",
       "    <tr>\n",
       "      <th>4</th>\n",
       "      <td>154.8</td>\n",
       "      <td>183.4</td>\n",
       "      <td>0.0</td>\n",
       "      <td>193.3</td>\n",
       "      <td>9.1</td>\n",
       "      <td>1047.4</td>\n",
       "      <td>696.7</td>\n",
       "      <td>28</td>\n",
       "      <td>18.29</td>\n",
       "    </tr>\n",
       "  </tbody>\n",
       "</table>\n",
       "</div>"
      ],
      "text/plain": [
       "   cement   slag    ash  water  superplastic  coarseagg  fineagg  age  \\\n",
       "0   141.3  212.0    0.0  203.5           0.0      971.8    748.5   28   \n",
       "1   168.9   42.2  124.3  158.3          10.8     1080.8    796.2   14   \n",
       "2   250.0    0.0   95.7  187.4           5.5      956.9    861.2   28   \n",
       "3   266.0  114.0    0.0  228.0           0.0      932.0    670.0   28   \n",
       "4   154.8  183.4    0.0  193.3           9.1     1047.4    696.7   28   \n",
       "\n",
       "   strength  \n",
       "0     29.89  \n",
       "1     23.51  \n",
       "2     29.22  \n",
       "3     45.85  \n",
       "4     18.29  "
      ]
     },
     "execution_count": 31,
     "metadata": {},
     "output_type": "execute_result"
    }
   ],
   "source": [
    "df.head()"
   ]
  },
  {
   "cell_type": "code",
   "execution_count": 37,
   "id": "4b7b640e-84f7-428f-a91f-06cbf602dd68",
   "metadata": {},
   "outputs": [
    {
     "data": {
      "text/plain": [
       "cement          float64\n",
       "slag            float64\n",
       "ash             float64\n",
       "water           float64\n",
       "superplastic    float64\n",
       "coarseagg       float64\n",
       "fineagg         float64\n",
       "age               int64\n",
       "strength        float64\n",
       "w/c             float64\n",
       "dtype: object"
      ]
     },
     "execution_count": 37,
     "metadata": {},
     "output_type": "execute_result"
    }
   ],
   "source": [
    "df.dtypes"
   ]
  },
  {
   "cell_type": "code",
   "execution_count": 32,
   "id": "f6baad22-1558-4698-a4d5-a037c0c2be9d",
   "metadata": {},
   "outputs": [
    {
     "data": {
      "text/plain": [
       "age\n",
       "28     425\n",
       "3      134\n",
       "7      126\n",
       "56      91\n",
       "14      62\n",
       "90      54\n",
       "100     52\n",
       "180     26\n",
       "91      22\n",
       "365     14\n",
       "270     13\n",
       "360      6\n",
       "120      3\n",
       "1        2\n",
       "Name: count, dtype: int64"
      ]
     },
     "execution_count": 32,
     "metadata": {},
     "output_type": "execute_result"
    }
   ],
   "source": [
    "df['age'].value_counts()"
   ]
  },
  {
   "cell_type": "code",
   "execution_count": 33,
   "id": "e7c5a224-d570-40ee-8034-fed00e33a99d",
   "metadata": {},
   "outputs": [
    {
     "data": {
      "text/plain": [
       "<Axes: xlabel='strength', ylabel='Count'>"
      ]
     },
     "execution_count": 33,
     "metadata": {},
     "output_type": "execute_result"
    },
    {
     "data": {
      "image/png": "[encoded data removed]",
      "text/plain": [
       "<Figure size 640x480 with 1 Axes>"
      ]
     },
     "metadata": {},
     "output_type": "display_data"
    }
   ],
   "source": [
    "sns.histplot(data=df, x=\"strength\", binwidth=2.5)"
   ]
  },
  {
   "cell_type": "code",
   "execution_count": 45,
   "id": "74947453-03dd-4ff6-a1c4-8244d1e41a69",
   "metadata": {},
   "outputs": [],
   "source": [
    "df[\"binder\"] = df[\"cement\"] + df[\"slag\"] + df[\"ash\"]"
   ]
  },
  {
   "cell_type": "code",
   "execution_count": 56,
   "id": "5e261221-42a9-4eb0-b7e1-acbd148346e0",
   "metadata": {},
   "outputs": [
    {
     "data": {
      "text/plain": [
       "<Axes: xlabel='binder', ylabel='Count'>"
      ]
     },
     "execution_count": 56,
     "metadata": {},
     "output_type": "execute_result"
    },
    {
     "data": {
      "image/png": "[encoded data removed]",
      "text/plain": [
       "<Figure size 640x480 with 1 Axes>"
      ]
     },
     "metadata": {},
     "output_type": "display_data"
    }
   ],
   "source": [
    "sns.histplot(data=df, x=\"binder\", binwidth=10)"
   ]
  },
  {
   "cell_type": "code",
   "execution_count": 52,
   "id": "1235718b-9462-4c41-809a-da7561e8a0db",
   "metadata": {},
   "outputs": [],
   "source": [
    "df[\"w/c\"] = (df[\"water\"] + df[\"superplastic\"]) / df[\"binder\"] "
   ]
  },
  {
   "cell_type": "code",
   "execution_count": 51,
   "id": "df733c19-2fc7-4046-b754-c78a773d958c",
   "metadata": {},
   "outputs": [
    {
     "data": {
      "text/plain": [
       "<Axes: xlabel='w/c', ylabel='Count'>"
      ]
     },
     "execution_count": 51,
     "metadata": {},
     "output_type": "execute_result"
    },
    {
     "data": {
      "image/png": "[encoded data removed]",
      "text/plain": [
       "<Figure size 640x480 with 1 Axes>"
      ]
     },
     "metadata": {},
     "output_type": "display_data"
    }
   ],
   "source": [
    "sns.histplot(data=df, x=\"w/c\", binwidth=0.025)"
   ]
  },
  {
   "cell_type": "code",
   "execution_count": 48,
   "id": "a650b152-973f-4698-b6ca-4d4ad8c1c344",
   "metadata": {},
   "outputs": [
    {
     "data": {
      "text/plain": [
       "(425, 11)"
      ]
     },
     "execution_count": 48,
     "metadata": {},
     "output_type": "execute_result"
    }
   ],
   "source": [
    "df_28 = df[df[\"age\"] == 28]\n",
    "df_28.shape"
   ]
  },
  {
   "cell_type": "code",
   "execution_count": 49,
   "id": "a75f0144-55d0-4fe5-88f7-c509a8f55e7a",
   "metadata": {},
   "outputs": [
    {
     "data": {
      "text/plain": [
       "<Axes: xlabel='w/c', ylabel='strength'>"
      ]
     },
     "execution_count": 49,
     "metadata": {},
     "output_type": "execute_result"
    },
    {
     "data": {
      "image/png": "[encoded data removed]",
      "text/plain": [
       "<Figure size 640x480 with 1 Axes>"
      ]
     },
     "metadata": {},
     "output_type": "display_data"
    }
   ],
   "source": [
    "sns.scatterplot(data=df_28, x=\"w/c\", y=\"strength\")"
   ]
  },
  {
   "cell_type": "code",
   "execution_count": 53,
   "id": "8e12b1cc-76d6-4d3d-b59b-365c2219bebd",
   "metadata": {},
   "outputs": [
    {
     "data": {
      "text/plain": [
       "\u001b[1;31mSignature:\u001b[0m\n",
       "\u001b[0msns\u001b[0m\u001b[1;33m.\u001b[0m\u001b[0mbarplot\u001b[0m\u001b[1;33m(\u001b[0m\u001b[1;33m\n",
       "\u001b[0m    \u001b[0mdata\u001b[0m\u001b[1;33m=\u001b[0m\u001b[1;32mNone\u001b[0m\u001b[1;33m,\u001b[0m\u001b[1;33m\n",
       "\u001b[0m    \u001b[1;33m*\u001b[0m\u001b[1;33m,\u001b[0m\u001b[1;33m\n",
       "\u001b[0m    \u001b[0mx\u001b[0m\u001b[1;33m=\u001b[0m\u001b[1;32mNone\u001b[0m\u001b[1;33m,\u001b[0m\u001b[1;33m\n",
       "\u001b[0m    \u001b[0my\u001b[0m\u001b[1;33m=\u001b[0m\u001b[1;32mNone\u001b[0m\u001b[1;33m,\u001b[0m\u001b[1;33m\n",
       "\u001b[0m    \u001b[0mhue\u001b[0m\u001b[1;33m=\u001b[0m\u001b[1;32mNone\u001b[0m\u001b[1;33m,\u001b[0m\u001b[1;33m\n",
       "\u001b[0m    \u001b[0morder\u001b[0m\u001b[1;33m=\u001b[0m\u001b[1;32mNone\u001b[0m\u001b[1;33m,\u001b[0m\u001b[1;33m\n",
       "\u001b[0m    \u001b[0mhue_order\u001b[0m\u001b[1;33m=\u001b[0m\u001b[1;32mNone\u001b[0m\u001b[1;33m,\u001b[0m\u001b[1;33m\n",
       "\u001b[0m    \u001b[0mestimator\u001b[0m\u001b[1;33m=\u001b[0m\u001b[1;34m'mean'\u001b[0m\u001b[1;33m,\u001b[0m\u001b[1;33m\n",
       "\u001b[0m    \u001b[0merrorbar\u001b[0m\u001b[1;33m=\u001b[0m\u001b[1;33m(\u001b[0m\u001b[1;34m'ci'\u001b[0m\u001b[1;33m,\u001b[0m \u001b[1;36m95\u001b[0m\u001b[1;33m)\u001b[0m\u001b[1;33m,\u001b[0m\u001b[1;33m\n",
       "\u001b[0m    \u001b[0mn_boot\u001b[0m\u001b[1;33m=\u001b[0m\u001b[1;36m1000\u001b[0m\u001b[1;33m,\u001b[0m\u001b[1;33m\n",
       "\u001b[0m    \u001b[0mseed\u001b[0m\u001b[1;33m=\u001b[0m\u001b[1;32mNone\u001b[0m\u001b[1;33m,\u001b[0m\u001b[1;33m\n",
       "\u001b[0m    \u001b[0munits\u001b[0m\u001b[1;33m=\u001b[0m\u001b[1;32mNone\u001b[0m\u001b[1;33m,\u001b[0m\u001b[1;33m\n",
       "\u001b[0m    \u001b[0mweights\u001b[0m\u001b[1;33m=\u001b[0m\u001b[1;32mNone\u001b[0m\u001b[1;33m,\u001b[0m\u001b[1;33m\n",
       "\u001b[0m    \u001b[0morient\u001b[0m\u001b[1;33m=\u001b[0m\u001b[1;32mNone\u001b[0m\u001b[1;33m,\u001b[0m\u001b[1;33m\n",
       "\u001b[0m    \u001b[0mcolor\u001b[0m\u001b[1;33m=\u001b[0m\u001b[1;32mNone\u001b[0m\u001b[1;33m,\u001b[0m\u001b[1;33m\n",
       "\u001b[0m    \u001b[0mpalette\u001b[0m\u001b[1;33m=\u001b[0m\u001b[1;32mNone\u001b[0m\u001b[1;33m,\u001b[0m\u001b[1;33m\n",
       "\u001b[0m    \u001b[0msaturation\u001b[0m\u001b[1;33m=\u001b[0m\u001b[1;36m0.75\u001b[0m\u001b[1;33m,\u001b[0m\u001b[1;33m\n",
       "\u001b[0m    \u001b[0mfill\u001b[0m\u001b[1;33m=\u001b[0m\u001b[1;32mTrue\u001b[0m\u001b[1;33m,\u001b[0m\u001b[1;33m\n",
       "\u001b[0m    \u001b[0mhue_norm\u001b[0m\u001b[1;33m=\u001b[0m\u001b[1;32mNone\u001b[0m\u001b[1;33m,\u001b[0m\u001b[1;33m\n",
       "\u001b[0m    \u001b[0mwidth\u001b[0m\u001b[1;33m=\u001b[0m\u001b[1;36m0.8\u001b[0m\u001b[1;33m,\u001b[0m\u001b[1;33m\n",
       "\u001b[0m    \u001b[0mdodge\u001b[0m\u001b[1;33m=\u001b[0m\u001b[1;34m'auto'\u001b[0m\u001b[1;33m,\u001b[0m\u001b[1;33m\n",
       "\u001b[0m    \u001b[0mgap\u001b[0m\u001b[1;33m=\u001b[0m\u001b[1;36m0\u001b[0m\u001b[1;33m,\u001b[0m\u001b[1;33m\n",
       "\u001b[0m    \u001b[0mlog_scale\u001b[0m\u001b[1;33m=\u001b[0m\u001b[1;32mNone\u001b[0m\u001b[1;33m,\u001b[0m\u001b[1;33m\n",
       "\u001b[0m    \u001b[0mnative_scale\u001b[0m\u001b[1;33m=\u001b[0m\u001b[1;32mFalse\u001b[0m\u001b[1;33m,\u001b[0m\u001b[1;33m\n",
       "\u001b[0m    \u001b[0mformatter\u001b[0m\u001b[1;33m=\u001b[0m\u001b[1;32mNone\u001b[0m\u001b[1;33m,\u001b[0m\u001b[1;33m\n",
       "\u001b[0m    \u001b[0mlegend\u001b[0m\u001b[1;33m=\u001b[0m\u001b[1;34m'auto'\u001b[0m\u001b[1;33m,\u001b[0m\u001b[1;33m\n",
       "\u001b[0m    \u001b[0mcapsize\u001b[0m\u001b[1;33m=\u001b[0m\u001b[1;36m0\u001b[0m\u001b[1;33m,\u001b[0m\u001b[1;33m\n",
       "\u001b[0m    \u001b[0merr_kws\u001b[0m\u001b[1;33m=\u001b[0m\u001b[1;32mNone\u001b[0m\u001b[1;33m,\u001b[0m\u001b[1;33m\n",
       "\u001b[0m    \u001b[0mci\u001b[0m\u001b[1;33m=\u001b[0m\u001b[1;33m<\u001b[0m\u001b[0mdeprecated\u001b[0m\u001b[1;33m>\u001b[0m\u001b[1;33m,\u001b[0m\u001b[1;33m\n",
       "\u001b[0m    \u001b[0merrcolor\u001b[0m\u001b[1;33m=\u001b[0m\u001b[1;33m<\u001b[0m\u001b[0mdeprecated\u001b[0m\u001b[1;33m>\u001b[0m\u001b[1;33m,\u001b[0m\u001b[1;33m\n",
       "\u001b[0m    \u001b[0merrwidth\u001b[0m\u001b[1;33m=\u001b[0m\u001b[1;33m<\u001b[0m\u001b[0mdeprecated\u001b[0m\u001b[1;33m>\u001b[0m\u001b[1;33m,\u001b[0m\u001b[1;33m\n",
       "\u001b[0m    \u001b[0max\u001b[0m\u001b[1;33m=\u001b[0m\u001b[1;32mNone\u001b[0m\u001b[1;33m,\u001b[0m\u001b[1;33m\n",
       "\u001b[0m    \u001b[1;33m**\u001b[0m\u001b[0mkwargs\u001b[0m\u001b[1;33m,\u001b[0m\u001b[1;33m\n",
       "\u001b[0m\u001b[1;33m)\u001b[0m\u001b[1;33m\u001b[0m\u001b[1;33m\u001b[0m\u001b[0m\n",
       "\u001b[1;31mDocstring:\u001b[0m\n",
       "Show point estimates and errors as rectangular bars.\n",
       "\n",
       "A bar plot represents an aggregate or statistical estimate for a numeric\n",
       "variable with the height of each rectangle and indicates the uncertainty\n",
       "around that estimate using an error bar. Bar plots include 0 in the\n",
       "axis range, and they are a good choice when 0 is a meaningful value\n",
       "for the variable to take.\n",
       "\n",
       "See the :ref:`tutorial <categorical_tutorial>` for more information.\n",
       "\n",
       ".. note::\n",
       "    By default, this function treats one of the variables as categorical\n",
       "    and draws data at ordinal positions (0, 1, ... n) on the relevant axis.\n",
       "    As of version 0.13.0, this can be disabled by setting `native_scale=True`.\n",
       "\n",
       "\n",
       "Parameters\n",
       "----------\n",
       "data : DataFrame, Series, dict, array, or list of arrays\n",
       "    Dataset for plotting. If `x` and `y` are absent, this is\n",
       "    interpreted as wide-form. Otherwise it is expected to be long-form.    \n",
       "x, y, hue : names of variables in `data` or vector data\n",
       "    Inputs for plotting long-form data. See examples for interpretation.    \n",
       "order, hue_order : lists of strings\n",
       "    Order to plot the categorical levels in; otherwise the levels are\n",
       "    inferred from the data objects.    \n",
       "estimator : string or callable that maps vector -> scalar\n",
       "    Statistical function to estimate within each categorical bin.\n",
       "errorbar : string, (string, number) tuple, callable or None\n",
       "    Name of errorbar method (either \"ci\", \"pi\", \"se\", or \"sd\"), or a tuple\n",
       "    with a method name and a level parameter, or a function that maps from a\n",
       "    vector to a (min, max) interval, or None to hide errorbar. See the\n",
       "    :doc:`errorbar tutorial </tutorial/error_bars>` for more information.\n",
       "\n",
       "    .. versionadded:: v0.12.0\n",
       "n_boot : int\n",
       "    Number of bootstrap samples used to compute confidence intervals.\n",
       "seed : int, `numpy.random.Generator`, or `numpy.random.RandomState`\n",
       "    Seed or random number generator for reproducible bootstrapping.\n",
       "units : name of variable in `data` or vector data\n",
       "    Identifier of sampling units; used by the errorbar function to\n",
       "    perform a multilevel bootstrap and account for repeated measures\n",
       "weights : name of variable in `data` or vector data\n",
       "    Data values or column used to compute weighted statistics.\n",
       "    Note that the use of weights may limit other statistical options.\n",
       "\n",
       "    .. versionadded:: v0.13.1    \n",
       "orient : \"v\" | \"h\" | \"x\" | \"y\"\n",
       "    Orientation of the plot (vertical or horizontal). This is usually\n",
       "    inferred based on the type of the input variables, but it can be used\n",
       "    to resolve ambiguity when both `x` and `y` are numeric or when\n",
       "    plotting wide-form data.\n",
       "\n",
       "    .. versionchanged:: v0.13.0\n",
       "        Added 'x'/'y' as options, equivalent to 'v'/'h'.    \n",
       "color : matplotlib color\n",
       "    Single color for the elements in the plot.    \n",
       "palette : palette name, list, or dict\n",
       "    Colors to use for the different levels of the ``hue`` variable. Should\n",
       "    be something that can be interpreted by :func:`color_palette`, or a\n",
       "    dictionary mapping hue levels to matplotlib colors.    \n",
       "saturation : float\n",
       "    Proportion of the original saturation to draw fill colors in. Large\n",
       "    patches often look better with desaturated colors, but set this to\n",
       "    `1` if you want the colors to perfectly match the input values.    \n",
       "fill : bool\n",
       "    If True, use a solid patch. Otherwise, draw as line art.\n",
       "\n",
       "    .. versionadded:: v0.13.0    \n",
       "hue_norm : tuple or :class:`matplotlib.colors.Normalize` object\n",
       "    Normalization in data units for colormap applied to the `hue`\n",
       "    variable when it is numeric. Not relevant if `hue` is categorical.\n",
       "\n",
       "    .. versionadded:: v0.12.0    \n",
       "width : float\n",
       "    Width allotted to each element on the orient axis. When `native_scale=True`,\n",
       "    it is relative to the minimum distance between two values in the native scale.    \n",
       "dodge : \"auto\" or bool\n",
       "    When hue mapping is used, whether elements should be narrowed and shifted along\n",
       "    the orient axis to eliminate overlap. If `\"auto\"`, set to `True` when the\n",
       "    orient variable is crossed with the categorical variable or `False` otherwise.\n",
       "\n",
       "    .. versionchanged:: 0.13.0\n",
       "\n",
       "        Added `\"auto\"` mode as a new default.    \n",
       "gap : float\n",
       "    Shrink on the orient axis by this factor to add a gap between dodged elements.\n",
       "\n",
       "    .. versionadded:: 0.13.0    \n",
       "log_scale : bool or number, or pair of bools or numbers\n",
       "    Set axis scale(s) to log. A single value sets the data axis for any numeric\n",
       "    axes in the plot. A pair of values sets each axis independently.\n",
       "    Numeric values are interpreted as the desired base (default 10).\n",
       "    When `None` or `False`, seaborn defers to the existing Axes scale.\n",
       "\n",
       "    .. versionadded:: v0.13.0    \n",
       "native_scale : bool\n",
       "    When True, numeric or datetime values on the categorical axis will maintain\n",
       "    their original scaling rather than being converted to fixed indices.\n",
       "\n",
       "    .. versionadded:: v0.13.0    \n",
       "formatter : callable\n",
       "    Function for converting categorical data into strings. Affects both grouping\n",
       "    and tick labels.\n",
       "\n",
       "    .. versionadded:: v0.13.0    \n",
       "legend : \"auto\", \"brief\", \"full\", or False\n",
       "    How to draw the legend. If \"brief\", numeric `hue` and `size`\n",
       "    variables will be represented with a sample of evenly spaced values.\n",
       "    If \"full\", every group will get an entry in the legend. If \"auto\",\n",
       "    choose between brief or full representation based on number of levels.\n",
       "    If `False`, no legend data is added and no legend is drawn.\n",
       "\n",
       "    .. versionadded:: v0.13.0    \n",
       "capsize : float\n",
       "    Width of the \"caps\" on error bars, relative to bar spacing.    \n",
       "err_kws : dict\n",
       "    Parameters of :class:`matplotlib.lines.Line2D`, for the error bar artists.\n",
       "\n",
       "    .. versionadded:: v0.13.0    \n",
       "ci : float\n",
       "    Level of the confidence interval to show, in [0, 100].\n",
       "\n",
       "    .. deprecated:: v0.12.0\n",
       "        Use `errorbar=(\"ci\", ...)`.    \n",
       "errcolor : matplotlib color\n",
       "    Color used for the error bar lines.\n",
       "\n",
       "    .. deprecated:: 0.13.0\n",
       "        Use `err_kws={'color': ...}`.    \n",
       "errwidth : float\n",
       "    Thickness of error bar lines (and caps), in points.\n",
       "\n",
       "    .. deprecated:: 0.13.0\n",
       "        Use `err_kws={'linewidth': ...}`.    \n",
       "ax : matplotlib Axes\n",
       "    Axes object to draw the plot onto, otherwise uses the current Axes.    \n",
       "kwargs : key, value mappings\n",
       "    Other parameters are passed through to :class:`matplotlib.patches.Rectangle`.\n",
       "\n",
       "Returns\n",
       "-------\n",
       "ax : matplotlib Axes\n",
       "    Returns the Axes object with the plot drawn onto it.    \n",
       "\n",
       "See Also\n",
       "--------\n",
       "countplot : Show the counts of observations in each categorical bin.    \n",
       "pointplot : Show point estimates and confidence intervals using dots.    \n",
       "catplot : Combine a categorical plot with a :class:`FacetGrid`.    \n",
       "\n",
       "Notes\n",
       "-----\n",
       "\n",
       "For datasets where 0 is not a meaningful value, a :func:`pointplot` will\n",
       "allow you to focus on differences between levels of one or more categorical\n",
       "variables.\n",
       "\n",
       "It is also important to keep in mind that a bar plot shows only the mean (or\n",
       "other aggregate) value, but it is often more informative to show the\n",
       "distribution of values at each level of the categorical variables. In those\n",
       "cases, approaches such as a :func:`boxplot` or :func:`violinplot` may be\n",
       "more appropriate.\n",
       "\n",
       "Examples\n",
       "--------\n",
       ".. include:: ../docstrings/barplot.rst\n",
       "\u001b[1;31mFile:\u001b[0m      c:\\users\\helit\\appdata\\local\\programs\\python\\python312\\lib\\site-packages\\seaborn\\categorical.py\n",
       "\u001b[1;31mType:\u001b[0m      function"
      ]
     },
     "metadata": {},
     "output_type": "display_data"
    }
   ],
   "source": [
    "sns.barplot?"
   ]
  }
 ],
 "metadata": {
  "kernelspec": {
   "display_name": "Python 3 (ipykernel)",
   "language": "python",
   "name": "python3"
  },
  "language_info": {
   "codemirror_mode": {
    "name": "ipython",
    "version": 3
   },
   "file_extension": ".py",
   "mimetype": "text/x-python",
   "name": "python",
   "nbconvert_exporter": "python",
   "pygments_lexer": "ipython3",
   "version": "3.12.2"
  }
 },
 "nbformat": 4,
 "nbformat_minor": 5
}
