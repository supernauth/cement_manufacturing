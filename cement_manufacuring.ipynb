{
 "cells": [
  {
   "cell_type": "markdown",
   "id": "7b0ee66a-0c49-4d57-a38c-6ac99e394f0b",
   "metadata": {},
   "source": [
    "# Cement manufacturing - concrete strength prediction"
   ]
  },
  {
   "cell_type": "code",
   "execution_count": 29,
   "id": "2c18f43e-3657-4507-b6a8-1f7b91372064",
   "metadata": {},
   "outputs": [],
   "source": [
    "import numpy as np\n",
    "import pandas as pd\n",
    "import matplotlib.pyplot as plt\n",
    "import seaborn as sns"
   ]
  },
  {
   "cell_type": "code",
   "execution_count": 30,
   "id": "b69e4d20-9582-4f49-b5aa-babd8480616e",
   "metadata": {},
   "outputs": [],
   "source": [
    "csv = pd.read_csv('concrete.csv')\n",
    "df = pd.DataFrame(csv)"
   ]
  },
  {
   "cell_type": "code",
   "execution_count": 31,
   "id": "c7f20bcf-020a-458b-9bd9-edb988c6a786",
   "metadata": {},
   "outputs": [
    {
     "data": {
      "text/html": [
       "<div>\n",
       "<style scoped>\n",
       "    .dataframe tbody tr th:only-of-type {\n",
       "        vertical-align: middle;\n",
       "    }\n",
       "\n",
       "    .dataframe tbody tr th {\n",
       "        vertical-align: top;\n",
       "    }\n",
       "\n",
       "    .dataframe thead th {\n",
       "        text-align: right;\n",
       "    }\n",
       "</style>\n",
       "<table border=\"1\" class=\"dataframe\">\n",
       "  <thead>\n",
       "    <tr style=\"text-align: right;\">\n",
       "      <th></th>\n",
       "      <th>cement</th>\n",
       "      <th>slag</th>\n",
       "      <th>ash</th>\n",
       "      <th>water</th>\n",
       "      <th>superplastic</th>\n",
       "      <th>coarseagg</th>\n",
       "      <th>fineagg</th>\n",
       "      <th>age</th>\n",
       "      <th>strength</th>\n",
       "    </tr>\n",
       "  </thead>\n",
       "  <tbody>\n",
       "    <tr>\n",
       "      <th>0</th>\n",
       "      <td>141.3</td>\n",
       "      <td>212.0</td>\n",
       "      <td>0.0</td>\n",
       "      <td>203.5</td>\n",
       "      <td>0.0</td>\n",
       "      <td>971.8</td>\n",
       "      <td>748.5</td>\n",
       "      <td>28</td>\n",
       "      <td>29.89</td>\n",
       "    </tr>\n",
       "    <tr>\n",
       "      <th>1</th>\n",
       "      <td>168.9</td>\n",
       "      <td>42.2</td>\n",
       "      <td>124.3</td>\n",
       "      <td>158.3</td>\n",
       "      <td>10.8</td>\n",
       "      <td>1080.8</td>\n",
       "      <td>796.2</td>\n",
       "      <td>14</td>\n",
       "      <td>23.51</td>\n",
       "    </tr>\n",
       "    <tr>\n",
       "      <th>2</th>\n",
       "      <td>250.0</td>\n",
       "      <td>0.0</td>\n",
       "      <td>95.7</td>\n",
       "      <td>187.4</td>\n",
       "      <td>5.5</td>\n",
       "      <td>956.9</td>\n",
       "      <td>861.2</td>\n",
       "      <td>28</td>\n",
       "      <td>29.22</td>\n",
       "    </tr>\n",
       "    <tr>\n",
       "      <th>3</th>\n",
       "      <td>266.0</td>\n",
       "      <td>114.0</td>\n",
       "      <td>0.0</td>\n",
       "      <td>228.0</td>\n",
       "      <td>0.0</td>\n",
       "      <td>932.0</td>\n",
       "      <td>670.0</td>\n",
       "      <td>28</td>\n",
       "      <td>45.85</td>\n",
       "    </tr>\n",
       "    <tr>\n",
       "      <th>4</th>\n",
       "      <td>154.8</td>\n",
       "      <td>183.4</td>\n",
       "      <td>0.0</td>\n",
       "      <td>193.3</td>\n",
       "      <td>9.1</td>\n",
       "      <td>1047.4</td>\n",
       "      <td>696.7</td>\n",
       "      <td>28</td>\n",
       "      <td>18.29</td>\n",
       "    </tr>\n",
       "  </tbody>\n",
       "</table>\n",
       "</div>"
      ],
      "text/plain": [
       "   cement   slag    ash  water  superplastic  coarseagg  fineagg  age  \\\n",
       "0   141.3  212.0    0.0  203.5           0.0      971.8    748.5   28   \n",
       "1   168.9   42.2  124.3  158.3          10.8     1080.8    796.2   14   \n",
       "2   250.0    0.0   95.7  187.4           5.5      956.9    861.2   28   \n",
       "3   266.0  114.0    0.0  228.0           0.0      932.0    670.0   28   \n",
       "4   154.8  183.4    0.0  193.3           9.1     1047.4    696.7   28   \n",
       "\n",
       "   strength  \n",
       "0     29.89  \n",
       "1     23.51  \n",
       "2     29.22  \n",
       "3     45.85  \n",
       "4     18.29  "
      ]
     },
     "execution_count": 31,
     "metadata": {},
     "output_type": "execute_result"
    }
   ],
   "source": [
    "df.head()"
   ]
  },
  {
   "cell_type": "code",
   "execution_count": 37,
   "id": "4b7b640e-84f7-428f-a91f-06cbf602dd68",
   "metadata": {},
   "outputs": [
    {
     "data": {
      "text/plain": [
       "cement          float64\n",
       "slag            float64\n",
       "ash             float64\n",
       "water           float64\n",
       "superplastic    float64\n",
       "coarseagg       float64\n",
       "fineagg         float64\n",
       "age               int64\n",
       "strength        float64\n",
       "w/c             float64\n",
       "dtype: object"
      ]
     },
     "execution_count": 37,
     "metadata": {},
     "output_type": "execute_result"
    }
   ],
   "source": [
    "df.dtypes"
   ]
  },
  {
   "cell_type": "markdown",
   "id": "1d5986d4-fcaf-4787-8f18-2bf6f3f042d1",
   "metadata": {},
   "source": [
    "## Age check\n",
    "It is important to check the ages of the tests, because the usual age for comparing strength is at 28-days at most cases."
   ]
  },
  {
   "cell_type": "code",
   "execution_count": 32,
   "id": "f6baad22-1558-4698-a4d5-a037c0c2be9d",
   "metadata": {},
   "outputs": [
    {
     "data": {
      "text/plain": [
       "age\n",
       "28     425\n",
       "3      134\n",
       "7      126\n",
       "56      91\n",
       "14      62\n",
       "90      54\n",
       "100     52\n",
       "180     26\n",
       "91      22\n",
       "365     14\n",
       "270     13\n",
       "360      6\n",
       "120      3\n",
       "1        2\n",
       "Name: count, dtype: int64"
      ]
     },
     "execution_count": 32,
     "metadata": {},
     "output_type": "execute_result"
    }
   ],
   "source": [
    "df['age'].value_counts()"
   ]
  },
  {
   "cell_type": "markdown",
   "id": "252cd346-de5c-4c18-b862-7c23cb983a16",
   "metadata": {},
   "source": [
    "## Exploring the distribution of the strengths"
   ]
  },
  {
   "cell_type": "code",
   "execution_count": 33,
   "id": "e7c5a224-d570-40ee-8034-fed00e33a99d",
   "metadata": {
    "scrolled": true
   },
   "outputs": [
    {
     "data": {
      "text/plain": [
       "<Axes: xlabel='strength', ylabel='Count'>"
      ]
     },
     "execution_count": 33,
     "metadata": {},
     "output_type": "execute_result"
    },
    {
     "data": {
      "image/png": "[encoded data removed]",
      "text/plain": [
       "<Figure size 640x480 with 1 Axes>"
      ]
     },
     "metadata": {},
     "output_type": "display_data"
    }
   ],
   "source": [
    "sns.histplot(data=df, x=\"strength\", binwidth=2.5)"
   ]
  },
  {
   "cell_type": "markdown",
   "id": "62ae2bed-734a-440b-abd7-f44db95c56e8",
   "metadata": {},
   "source": [
    "## Joining the binders\n",
    "We need to see the 3 kind of binders combined as well to see the w/c ratio of the mixtures."
   ]
  },
  {
   "cell_type": "code",
   "execution_count": 45,
   "id": "74947453-03dd-4ff6-a1c4-8244d1e41a69",
   "metadata": {},
   "outputs": [],
   "source": [
    "df[\"binder\"] = df[\"cement\"] + df[\"slag\"] + df[\"ash\"]"
   ]
  },
  {
   "cell_type": "code",
   "execution_count": 56,
   "id": "5e261221-42a9-4eb0-b7e1-acbd148346e0",
   "metadata": {},
   "outputs": [
    {
     "data": {
      "text/plain": [
       "<Axes: xlabel='binder', ylabel='Count'>"
      ]
     },
     "execution_count": 56,
     "metadata": {},
     "output_type": "execute_result"
    },
    {
     "data": {
      "image/png": "[encoded data removed]",
      "text/plain": [
       "<Figure size 640x480 with 1 Axes>"
      ]
     },
     "metadata": {},
     "output_type": "display_data"
    }
   ],
   "source": [
    "sns.histplot(data=df, x=\"binder\", binwidth=10)"
   ]
  },
  {
   "cell_type": "code",
   "execution_count": 82,
   "id": "1235718b-9462-4c41-809a-da7561e8a0db",
   "metadata": {},
   "outputs": [],
   "source": [
    "df[\"w/c\"] = np.round((df[\"water\"] + df[\"superplastic\"]) / df[\"binder\"], 3)"
   ]
  },
  {
   "cell_type": "code",
   "execution_count": 83,
   "id": "df733c19-2fc7-4046-b754-c78a773d958c",
   "metadata": {},
   "outputs": [
    {
     "data": {
      "text/plain": [
       "<Axes: xlabel='w/c', ylabel='Count'>"
      ]
     },
     "execution_count": 83,
     "metadata": {},
     "output_type": "execute_result"
    },
    {
     "data": {
      "image/png": "[encoded data removed]",
      "text/plain": [
       "<Figure size 640x480 with 1 Axes>"
      ]
     },
     "metadata": {},
     "output_type": "display_data"
    }
   ],
   "source": [
    "sns.histplot(data=df, x=\"w/c\", binwidth=0.025)"
   ]
  },
  {
   "cell_type": "markdown",
   "id": "ad6761f0-e4a3-46e8-a194-441522ecbadd",
   "metadata": {},
   "source": [
    "## Filtering for results at 28-days\n",
    "To see the present correlation between the w/c ratio and strength, we filter for the results only at 28-days."
   ]
  },
  {
   "cell_type": "code",
   "execution_count": 84,
   "id": "a650b152-973f-4698-b6ca-4d4ad8c1c344",
   "metadata": {},
   "outputs": [
    {
     "data": {
      "text/plain": [
       "(425, 14)"
      ]
     },
     "execution_count": 84,
     "metadata": {},
     "output_type": "execute_result"
    }
   ],
   "source": [
    "df_28 = df[df[\"age\"] == 28]\n",
    "df_28.shape"
   ]
  },
  {
   "cell_type": "code",
   "execution_count": 85,
   "id": "a75f0144-55d0-4fe5-88f7-c509a8f55e7a",
   "metadata": {},
   "outputs": [
    {
     "data": {
      "text/plain": [
       "<Axes: xlabel='w/c', ylabel='strength'>"
      ]
     },
     "execution_count": 85,
     "metadata": {},
     "output_type": "execute_result"
    },
    {
     "data": {
      "image/png": "[encoded data removed]",
      "text/plain": [
       "<Figure size 640x480 with 1 Axes>"
      ]
     },
     "metadata": {},
     "output_type": "display_data"
    }
   ],
   "source": [
    "sns.scatterplot(data=df_28, x=\"w/c\", y=\"strength\")"
   ]
  },
  {
   "cell_type": "code",
   "execution_count": 86,
   "id": "94b9f250-77b1-4dcf-a7cf-48edc3a68895",
   "metadata": {},
   "outputs": [],
   "source": [
    "## Examining the ratio of the aggregates"
   ]
  },
  {
   "cell_type": "code",
   "execution_count": 87,
   "id": "258ed1bd-7ad1-4160-a5de-21cf9aa478bd",
   "metadata": {},
   "outputs": [],
   "source": [
    "df[\"agg\"] = df[\"coarseagg\"] + df[\"fineagg\"]\n",
    "df[\"fineagg_ratio\"] = np.round(df[\"fineagg\"] / df[\"agg\"], 3)\n",
    "df[\"coarseagg_ratio\"] = np.round(df[\"coarseagg\"] / df[\"agg\"], 3)"
   ]
  },
  {
   "cell_type": "code",
   "execution_count": 88,
   "id": "eea8d16a-edca-4621-af38-5468572c2f0a",
   "metadata": {},
   "outputs": [
    {
     "data": {
      "text/html": [
       "<div>\n",
       "<style scoped>\n",
       "    .dataframe tbody tr th:only-of-type {\n",
       "        vertical-align: middle;\n",
       "    }\n",
       "\n",
       "    .dataframe tbody tr th {\n",
       "        vertical-align: top;\n",
       "    }\n",
       "\n",
       "    .dataframe thead th {\n",
       "        text-align: right;\n",
       "    }\n",
       "</style>\n",
       "<table border=\"1\" class=\"dataframe\">\n",
       "  <thead>\n",
       "    <tr style=\"text-align: right;\">\n",
       "      <th></th>\n",
       "      <th>cement</th>\n",
       "      <th>slag</th>\n",
       "      <th>ash</th>\n",
       "      <th>water</th>\n",
       "      <th>superplastic</th>\n",
       "      <th>coarseagg</th>\n",
       "      <th>fineagg</th>\n",
       "      <th>age</th>\n",
       "      <th>strength</th>\n",
       "      <th>w/c</th>\n",
       "      <th>binder</th>\n",
       "      <th>agg</th>\n",
       "      <th>fineagg_ratio</th>\n",
       "      <th>coarseagg_ratio</th>\n",
       "    </tr>\n",
       "  </thead>\n",
       "  <tbody>\n",
       "    <tr>\n",
       "      <th>0</th>\n",
       "      <td>141.3</td>\n",
       "      <td>212.0</td>\n",
       "      <td>0.0</td>\n",
       "      <td>203.5</td>\n",
       "      <td>0.0</td>\n",
       "      <td>971.8</td>\n",
       "      <td>748.5</td>\n",
       "      <td>28</td>\n",
       "      <td>29.89</td>\n",
       "      <td>0.576</td>\n",
       "      <td>353.3</td>\n",
       "      <td>1720.3</td>\n",
       "      <td>0.435</td>\n",
       "      <td>0.565</td>\n",
       "    </tr>\n",
       "    <tr>\n",
       "      <th>1</th>\n",
       "      <td>168.9</td>\n",
       "      <td>42.2</td>\n",
       "      <td>124.3</td>\n",
       "      <td>158.3</td>\n",
       "      <td>10.8</td>\n",
       "      <td>1080.8</td>\n",
       "      <td>796.2</td>\n",
       "      <td>14</td>\n",
       "      <td>23.51</td>\n",
       "      <td>0.504</td>\n",
       "      <td>335.4</td>\n",
       "      <td>1877.0</td>\n",
       "      <td>0.424</td>\n",
       "      <td>0.576</td>\n",
       "    </tr>\n",
       "    <tr>\n",
       "      <th>2</th>\n",
       "      <td>250.0</td>\n",
       "      <td>0.0</td>\n",
       "      <td>95.7</td>\n",
       "      <td>187.4</td>\n",
       "      <td>5.5</td>\n",
       "      <td>956.9</td>\n",
       "      <td>861.2</td>\n",
       "      <td>28</td>\n",
       "      <td>29.22</td>\n",
       "      <td>0.558</td>\n",
       "      <td>345.7</td>\n",
       "      <td>1818.1</td>\n",
       "      <td>0.474</td>\n",
       "      <td>0.526</td>\n",
       "    </tr>\n",
       "    <tr>\n",
       "      <th>3</th>\n",
       "      <td>266.0</td>\n",
       "      <td>114.0</td>\n",
       "      <td>0.0</td>\n",
       "      <td>228.0</td>\n",
       "      <td>0.0</td>\n",
       "      <td>932.0</td>\n",
       "      <td>670.0</td>\n",
       "      <td>28</td>\n",
       "      <td>45.85</td>\n",
       "      <td>0.600</td>\n",
       "      <td>380.0</td>\n",
       "      <td>1602.0</td>\n",
       "      <td>0.418</td>\n",
       "      <td>0.582</td>\n",
       "    </tr>\n",
       "    <tr>\n",
       "      <th>4</th>\n",
       "      <td>154.8</td>\n",
       "      <td>183.4</td>\n",
       "      <td>0.0</td>\n",
       "      <td>193.3</td>\n",
       "      <td>9.1</td>\n",
       "      <td>1047.4</td>\n",
       "      <td>696.7</td>\n",
       "      <td>28</td>\n",
       "      <td>18.29</td>\n",
       "      <td>0.598</td>\n",
       "      <td>338.2</td>\n",
       "      <td>1744.1</td>\n",
       "      <td>0.399</td>\n",
       "      <td>0.601</td>\n",
       "    </tr>\n",
       "  </tbody>\n",
       "</table>\n",
       "</div>"
      ],
      "text/plain": [
       "   cement   slag    ash  water  superplastic  coarseagg  fineagg  age  \\\n",
       "0   141.3  212.0    0.0  203.5           0.0      971.8    748.5   28   \n",
       "1   168.9   42.2  124.3  158.3          10.8     1080.8    796.2   14   \n",
       "2   250.0    0.0   95.7  187.4           5.5      956.9    861.2   28   \n",
       "3   266.0  114.0    0.0  228.0           0.0      932.0    670.0   28   \n",
       "4   154.8  183.4    0.0  193.3           9.1     1047.4    696.7   28   \n",
       "\n",
       "   strength    w/c  binder     agg  fineagg_ratio  coarseagg_ratio  \n",
       "0     29.89  0.576   353.3  1720.3          0.435            0.565  \n",
       "1     23.51  0.504   335.4  1877.0          0.424            0.576  \n",
       "2     29.22  0.558   345.7  1818.1          0.474            0.526  \n",
       "3     45.85  0.600   380.0  1602.0          0.418            0.582  \n",
       "4     18.29  0.598   338.2  1744.1          0.399            0.601  "
      ]
     },
     "execution_count": 88,
     "metadata": {},
     "output_type": "execute_result"
    }
   ],
   "source": [
    "df.head()"
   ]
  },
  {
   "cell_type": "code",
   "execution_count": null,
   "id": "ff9535b4-8937-4f17-a089-db2df49b9f86",
   "metadata": {},
   "outputs": [],
   "source": []
  }
 ],
 "metadata": {
  "kernelspec": {
   "display_name": "Python 3 (ipykernel)",
   "language": "python",
   "name": "python3"
  },
  "language_info": {
   "codemirror_mode": {
    "name": "ipython",
    "version": 3
   },
   "file_extension": ".py",
   "mimetype": "text/x-python",
   "name": "python",
   "nbconvert_exporter": "python",
   "pygments_lexer": "ipython3",
   "version": "3.12.2"
  }
 },
 "nbformat": 4,
 "nbformat_minor": 5
}
