{
 "cells": [
  {
   "cell_type": "markdown",
   "id": "7b0ee66a-0c49-4d57-a38c-6ac99e394f0b",
   "metadata": {},
   "source": [
    "# Cement manufacturing"
   ]
  },
  {
   "cell_type": "code",
   "execution_count": 1,
   "id": "2c18f43e-3657-4507-b6a8-1f7b91372064",
   "metadata": {},
   "outputs": [],
   "source": [
    "import numpy as np\n",
    "import pandas as pd\n",
    "import matplotlib.pyplot as plt\n",
    "import seaborn as sns"
   ]
  },
  {
   "cell_type": "code",
   "execution_count": null,
   "id": "b69e4d20-9582-4f49-b5aa-babd8480616e",
   "metadata": {},
   "outputs": [],
   "source": []
  }
 ],
 "metadata": {
  "kernelspec": {
   "display_name": "Python 3 (ipykernel)",
   "language": "python",
   "name": "python3"
  },
  "language_info": {
   "codemirror_mode": {
    "name": "ipython",
    "version": 3
   },
   "file_extension": ".py",
   "mimetype": "text/x-python",
   "name": "python",
   "nbconvert_exporter": "python",
   "pygments_lexer": "ipython3",
   "version": "3.12.2"
  }
 },
 "nbformat": 4,
 "nbformat_minor": 5
}
